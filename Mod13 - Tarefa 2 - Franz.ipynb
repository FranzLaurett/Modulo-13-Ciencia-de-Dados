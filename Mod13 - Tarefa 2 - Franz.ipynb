{
 "cells": [
  {
   "cell_type": "markdown",
   "metadata": {},
   "source": [
    "# EBAC - Regressão II - regressão múltipla\n",
    "\n",
    "## Tarefa I"
   ]
  },
  {
   "cell_type": "markdown",
   "metadata": {},
   "source": [
    "#### Previsão de renda II\n",
    "\n",
    "Vamos continuar trabalhando com a base 'previsao_de_renda.csv', que é a base do seu próximo projeto. Vamos usar os recursos que vimos até aqui nesta base.\n",
    "\n",
    "|variavel|descrição|\n",
    "|-|-|\n",
    "|data_ref                | Data de referência de coleta das variáveis |\n",
    "|index                   | Código de identificação do cliente|\n",
    "|sexo                    | Sexo do cliente|\n",
    "|posse_de_veiculo        | Indica se o cliente possui veículo|\n",
    "|posse_de_imovel         | Indica se o cliente possui imóvel|\n",
    "|qtd_filhos              | Quantidade de filhos do cliente|\n",
    "|tipo_renda              | Tipo de renda do cliente|\n",
    "|educacao                | Grau de instrução do cliente|\n",
    "|estado_civil            | Estado civil do cliente|\n",
    "|tipo_residencia         | Tipo de residência do cliente (própria, alugada etc)|\n",
    "|idade                   | Idade do cliente|\n",
    "|tempo_emprego           | Tempo no emprego atual|\n",
    "|qt_pessoas_residencia   | Quantidade de pessoas que moram na residência|\n",
    "|renda                   | Renda em reais|"
   ]
  },
  {
   "cell_type": "code",
   "execution_count": 1,
   "metadata": {},
   "outputs": [],
   "source": [
    "import pandas as pd\n",
    "\n",
    "import seaborn as sns\n",
    "import matplotlib.pyplot as plt\n",
    "import seaborn as sns\n",
    "import numpy as np\n",
    "\n",
    "from sklearn.tree import DecisionTreeRegressor\n",
    "from sklearn import tree\n",
    "from sklearn.model_selection import train_test_split\n",
    "\n",
    "import patsy\n",
    "import statsmodels.api as sm\n",
    "import statsmodels.formula.api as smf"
   ]
  },
  {
   "cell_type": "code",
   "execution_count": 2,
   "metadata": {},
   "outputs": [],
   "source": [
    "df = pd.read_csv('previsao_de_renda.csv')"
   ]
  },
  {
   "cell_type": "code",
   "execution_count": 3,
   "metadata": {},
   "outputs": [
    {
     "name": "stdout",
     "output_type": "stream",
     "text": [
      "<class 'pandas.core.frame.DataFrame'>\n",
      "RangeIndex: 15000 entries, 0 to 14999\n",
      "Data columns (total 16 columns):\n",
      " #   Column                 Non-Null Count  Dtype  \n",
      "---  ------                 --------------  -----  \n",
      " 0   Unnamed: 0             15000 non-null  int64  \n",
      " 1   data_ref               15000 non-null  object \n",
      " 2   index                  15000 non-null  int64  \n",
      " 3   sexo                   15000 non-null  object \n",
      " 4   posse_de_veiculo       15000 non-null  bool   \n",
      " 5   posse_de_imovel        15000 non-null  bool   \n",
      " 6   qtd_filhos             15000 non-null  int64  \n",
      " 7   tipo_renda             15000 non-null  object \n",
      " 8   educacao               15000 non-null  object \n",
      " 9   estado_civil           15000 non-null  object \n",
      " 10  tipo_residencia        15000 non-null  object \n",
      " 11  idade                  15000 non-null  int64  \n",
      " 12  tempo_emprego          12466 non-null  float64\n",
      " 13  qt_pessoas_residencia  15000 non-null  float64\n",
      " 14  mau                    15000 non-null  bool   \n",
      " 15  renda                  15000 non-null  float64\n",
      "dtypes: bool(3), float64(3), int64(4), object(6)\n",
      "memory usage: 1.5+ MB\n"
     ]
    }
   ],
   "source": [
    "df.info()"
   ]
  },
  {
   "cell_type": "markdown",
   "metadata": {},
   "source": [
    "1. Separe a base em treinamento e teste (25% para teste, 75% para treinamento).\n",
    "2. Rode uma regularização *ridge* com alpha = [0, 0.001, 0.005, 0.01, 0.05, 0.1] e avalie o $R^2$ na base de testes. Qual o melhor modelo?\n",
    "3. Faça o mesmo que no passo 2, com uma regressão *LASSO*. Qual método chega a um melhor resultado?\n",
    "4. Rode um modelo *stepwise*. Avalie o $R^2$ na vase de testes. Qual o melhor resultado?\n",
    "5. Compare os parâmetros e avalie eventuais diferenças. Qual modelo você acha o melhor de todos?\n",
    "6. Partindo dos modelos que você ajustou, tente melhorar o $R^2$ na base de testes. Use a criatividade, veja se consegue inserir alguma transformação ou combinação de variáveis.\n",
    "7. Ajuste uma árvore de regressão e veja se consegue um $R^2$ melhor com ela."
   ]
  },
  {
   "cell_type": "code",
   "execution_count": 4,
   "metadata": {},
   "outputs": [
    {
     "name": "stdout",
     "output_type": "stream",
     "text": [
      "<class 'pandas.core.frame.DataFrame'>\n",
      "Int64Index: 12466 entries, 0 to 14999\n",
      "Data columns (total 12 columns):\n",
      " #   Column                 Non-Null Count  Dtype  \n",
      "---  ------                 --------------  -----  \n",
      " 0   sexo                   12466 non-null  object \n",
      " 1   posse_de_veiculo       12466 non-null  bool   \n",
      " 2   posse_de_imovel        12466 non-null  bool   \n",
      " 3   qtd_filhos             12466 non-null  int64  \n",
      " 4   tipo_renda             12466 non-null  object \n",
      " 5   educacao               12466 non-null  object \n",
      " 6   estado_civil           12466 non-null  object \n",
      " 7   tipo_residencia        12466 non-null  object \n",
      " 8   idade                  12466 non-null  int64  \n",
      " 9   tempo_emprego          12466 non-null  float64\n",
      " 10  qt_pessoas_residencia  12466 non-null  float64\n",
      " 11  renda                  12466 non-null  float64\n",
      "dtypes: bool(2), float64(3), int64(2), object(5)\n",
      "memory usage: 1.1+ MB\n"
     ]
    }
   ],
   "source": [
    "\n",
    "\n",
    "X = df.drop(['Unnamed: 0' , 'data_ref' , 'index', 'mau'], axis = 1)\n",
    "\n",
    "X.dropna(inplace = True)\n",
    "\n",
    "X.info()\n",
    "\n"
   ]
  },
  {
   "cell_type": "code",
   "execution_count": 7,
   "metadata": {},
   "outputs": [
    {
     "data": {
      "text/html": [
       "<div>\n",
       "<style scoped>\n",
       "    .dataframe tbody tr th:only-of-type {\n",
       "        vertical-align: middle;\n",
       "    }\n",
       "\n",
       "    .dataframe tbody tr th {\n",
       "        vertical-align: top;\n",
       "    }\n",
       "\n",
       "    .dataframe thead th {\n",
       "        text-align: right;\n",
       "    }\n",
       "</style>\n",
       "<table border=\"1\" class=\"dataframe\">\n",
       "  <thead>\n",
       "    <tr style=\"text-align: right;\">\n",
       "      <th></th>\n",
       "      <th>sexo</th>\n",
       "      <th>posse_de_veiculo</th>\n",
       "      <th>posse_de_imovel</th>\n",
       "      <th>qtd_filhos</th>\n",
       "      <th>tipo_renda</th>\n",
       "      <th>educacao</th>\n",
       "      <th>estado_civil</th>\n",
       "      <th>tipo_residencia</th>\n",
       "      <th>idade</th>\n",
       "      <th>tempo_emprego</th>\n",
       "      <th>qt_pessoas_residencia</th>\n",
       "      <th>renda</th>\n",
       "    </tr>\n",
       "  </thead>\n",
       "  <tbody>\n",
       "    <tr>\n",
       "      <th>7879</th>\n",
       "      <td>F</td>\n",
       "      <td>True</td>\n",
       "      <td>True</td>\n",
       "      <td>0</td>\n",
       "      <td>Assalariado</td>\n",
       "      <td>Secundário</td>\n",
       "      <td>Casado</td>\n",
       "      <td>Casa</td>\n",
       "      <td>50</td>\n",
       "      <td>6.715068</td>\n",
       "      <td>2.0</td>\n",
       "      <td>3984.86</td>\n",
       "    </tr>\n",
       "    <tr>\n",
       "      <th>2632</th>\n",
       "      <td>F</td>\n",
       "      <td>False</td>\n",
       "      <td>True</td>\n",
       "      <td>0</td>\n",
       "      <td>Empresário</td>\n",
       "      <td>Secundário</td>\n",
       "      <td>Casado</td>\n",
       "      <td>Casa</td>\n",
       "      <td>51</td>\n",
       "      <td>6.630137</td>\n",
       "      <td>2.0</td>\n",
       "      <td>4196.93</td>\n",
       "    </tr>\n",
       "    <tr>\n",
       "      <th>3971</th>\n",
       "      <td>F</td>\n",
       "      <td>False</td>\n",
       "      <td>True</td>\n",
       "      <td>0</td>\n",
       "      <td>Assalariado</td>\n",
       "      <td>Superior completo</td>\n",
       "      <td>Casado</td>\n",
       "      <td>Casa</td>\n",
       "      <td>40</td>\n",
       "      <td>8.123288</td>\n",
       "      <td>2.0</td>\n",
       "      <td>2584.87</td>\n",
       "    </tr>\n",
       "    <tr>\n",
       "      <th>7140</th>\n",
       "      <td>M</td>\n",
       "      <td>True</td>\n",
       "      <td>True</td>\n",
       "      <td>0</td>\n",
       "      <td>Empresário</td>\n",
       "      <td>Secundário</td>\n",
       "      <td>Casado</td>\n",
       "      <td>Casa</td>\n",
       "      <td>42</td>\n",
       "      <td>3.257534</td>\n",
       "      <td>2.0</td>\n",
       "      <td>3294.94</td>\n",
       "    </tr>\n",
       "    <tr>\n",
       "      <th>2972</th>\n",
       "      <td>F</td>\n",
       "      <td>False</td>\n",
       "      <td>True</td>\n",
       "      <td>0</td>\n",
       "      <td>Empresário</td>\n",
       "      <td>Secundário</td>\n",
       "      <td>Viúvo</td>\n",
       "      <td>Casa</td>\n",
       "      <td>54</td>\n",
       "      <td>4.008219</td>\n",
       "      <td>1.0</td>\n",
       "      <td>1969.89</td>\n",
       "    </tr>\n",
       "  </tbody>\n",
       "</table>\n",
       "</div>"
      ],
      "text/plain": [
       "     sexo  posse_de_veiculo  posse_de_imovel  qtd_filhos   tipo_renda  \\\n",
       "7879    F              True             True           0  Assalariado   \n",
       "2632    F             False             True           0   Empresário   \n",
       "3971    F             False             True           0  Assalariado   \n",
       "7140    M              True             True           0   Empresário   \n",
       "2972    F             False             True           0   Empresário   \n",
       "\n",
       "               educacao estado_civil tipo_residencia  idade  tempo_emprego  \\\n",
       "7879         Secundário       Casado            Casa     50       6.715068   \n",
       "2632         Secundário       Casado            Casa     51       6.630137   \n",
       "3971  Superior completo       Casado            Casa     40       8.123288   \n",
       "7140         Secundário       Casado            Casa     42       3.257534   \n",
       "2972         Secundário        Viúvo            Casa     54       4.008219   \n",
       "\n",
       "      qt_pessoas_residencia    renda  \n",
       "7879                    2.0  3984.86  \n",
       "2632                    2.0  4196.93  \n",
       "3971                    2.0  2584.87  \n",
       "7140                    2.0  3294.94  \n",
       "2972                    1.0  1969.89  "
      ]
     },
     "execution_count": 7,
     "metadata": {},
     "output_type": "execute_result"
    }
   ],
   "source": [
    "# 1. Separe a base em treinamento e teste (25% para teste, 75% para treinamento).\n",
    "\n",
    "X_train, X_test = train_test_split(X, train_size=0.75, random_state=100)\n",
    "\n",
    "\n",
    "X_train.head()\n",
    "\n"
   ]
  },
  {
   "cell_type": "code",
   "execution_count": 16,
   "metadata": {},
   "outputs": [
    {
     "data": {
      "text/html": [
       "<table class=\"simpletable\">\n",
       "<caption>OLS Regression Results</caption>\n",
       "<tr>\n",
       "  <th>Dep. Variable:</th>          <td>renda</td>      <th>  R-squared:         </th> <td>   0.230</td> \n",
       "</tr>\n",
       "<tr>\n",
       "  <th>Model:</th>                   <td>OLS</td>       <th>  Adj. R-squared:    </th> <td>   0.228</td> \n",
       "</tr>\n",
       "<tr>\n",
       "  <th>Method:</th>             <td>Least Squares</td>  <th>  F-statistic:       </th> <td>   111.6</td> \n",
       "</tr>\n",
       "<tr>\n",
       "  <th>Date:</th>             <td>Mon, 13 Mar 2023</td> <th>  Prob (F-statistic):</th>  <td>  0.00</td>  \n",
       "</tr>\n",
       "<tr>\n",
       "  <th>Time:</th>                 <td>20:54:10</td>     <th>  Log-Likelihood:    </th> <td> -91475.</td> \n",
       "</tr>\n",
       "<tr>\n",
       "  <th>No. Observations:</th>      <td>  9349</td>      <th>  AIC:               </th> <td>1.830e+05</td>\n",
       "</tr>\n",
       "<tr>\n",
       "  <th>Df Residuals:</th>          <td>  9324</td>      <th>  BIC:               </th> <td>1.832e+05</td>\n",
       "</tr>\n",
       "<tr>\n",
       "  <th>Df Model:</th>              <td>    25</td>      <th>                     </th>     <td> </td>    \n",
       "</tr>\n",
       "<tr>\n",
       "  <th>Covariance Type:</th>      <td>nonrobust</td>    <th>                     </th>     <td> </td>    \n",
       "</tr>\n",
       "</table>\n",
       "<table class=\"simpletable\">\n",
       "<tr>\n",
       "                          <td></td>                             <th>coef</th>     <th>std err</th>      <th>t</th>      <th>P>|t|</th>  <th>[0.025</th>    <th>0.975]</th>  \n",
       "</tr>\n",
       "<tr>\n",
       "  <th>Intercept</th>                                         <td> -280.2696</td> <td> 2167.813</td> <td>   -0.129</td> <td> 0.897</td> <td>-4529.657</td> <td> 3969.118</td>\n",
       "</tr>\n",
       "<tr>\n",
       "  <th>sexo[T.M]</th>                                         <td> 2349.9054</td> <td>  101.370</td> <td>   23.182</td> <td> 0.000</td> <td> 2151.199</td> <td> 2548.612</td>\n",
       "</tr>\n",
       "<tr>\n",
       "  <th>posse_de_veiculo[T.True]</th>                          <td>  -49.0602</td> <td>   97.644</td> <td>   -0.502</td> <td> 0.615</td> <td> -240.463</td> <td>  142.343</td>\n",
       "</tr>\n",
       "<tr>\n",
       "  <th>C(posse_de_imovel, Treatment(1))[T.False]</th>         <td> -365.7728</td> <td>   96.703</td> <td>   -3.782</td> <td> 0.000</td> <td> -555.332</td> <td> -176.213</td>\n",
       "</tr>\n",
       "<tr>\n",
       "  <th>C(tipo_renda, Treatment(0))[T.Bolsista]</th>           <td>-1704.0002</td> <td> 2486.773</td> <td>   -0.685</td> <td> 0.493</td> <td>-6578.619</td> <td> 3170.619</td>\n",
       "</tr>\n",
       "<tr>\n",
       "  <th>C(tipo_renda, Treatment(0))[T.Empresário]</th>         <td> 1050.3412</td> <td>  104.138</td> <td>   10.086</td> <td> 0.000</td> <td>  846.207</td> <td> 1254.475</td>\n",
       "</tr>\n",
       "<tr>\n",
       "  <th>C(tipo_renda, Treatment(0))[T.Pensionista]</th>        <td> 1743.7147</td> <td> 1436.856</td> <td>    1.214</td> <td> 0.225</td> <td>-1072.836</td> <td> 4560.265</td>\n",
       "</tr>\n",
       "<tr>\n",
       "  <th>C(tipo_renda, Treatment(0))[T.Servidor público]</th>   <td>  377.7280</td> <td>  150.227</td> <td>    2.514</td> <td> 0.012</td> <td>   83.250</td> <td>  672.206</td>\n",
       "</tr>\n",
       "<tr>\n",
       "  <th>C(educacao, Treatment(2))[T.Primário]</th>             <td>  200.8314</td> <td>  487.582</td> <td>    0.412</td> <td> 0.680</td> <td> -754.936</td> <td> 1156.599</td>\n",
       "</tr>\n",
       "<tr>\n",
       "  <th>C(educacao, Treatment(2))[T.Pós graduação]</th>        <td> 2676.7032</td> <td> 1153.122</td> <td>    2.321</td> <td> 0.020</td> <td>  416.332</td> <td> 4937.074</td>\n",
       "</tr>\n",
       "<tr>\n",
       "  <th>C(educacao, Treatment(2))[T.Superior completo]</th>    <td>  621.4883</td> <td>   95.712</td> <td>    6.493</td> <td> 0.000</td> <td>  433.871</td> <td>  809.105</td>\n",
       "</tr>\n",
       "<tr>\n",
       "  <th>C(educacao, Treatment(2))[T.Superior incompleto]</th>  <td>  -57.6126</td> <td>  220.411</td> <td>   -0.261</td> <td> 0.794</td> <td> -489.666</td> <td>  374.441</td>\n",
       "</tr>\n",
       "<tr>\n",
       "  <th>estado_civil[T.Separado]</th>                          <td>  152.1843</td> <td> 1094.291</td> <td>    0.139</td> <td> 0.889</td> <td>-1992.866</td> <td> 2297.234</td>\n",
       "</tr>\n",
       "<tr>\n",
       "  <th>estado_civil[T.Solteiro]</th>                          <td>  155.1396</td> <td> 1081.249</td> <td>    0.143</td> <td> 0.886</td> <td>-1964.344</td> <td> 2274.623</td>\n",
       "</tr>\n",
       "<tr>\n",
       "  <th>estado_civil[T.União]</th>                             <td>  -54.7173</td> <td>  165.480</td> <td>   -0.331</td> <td> 0.741</td> <td> -379.094</td> <td>  269.659</td>\n",
       "</tr>\n",
       "<tr>\n",
       "  <th>estado_civil[T.Viúvo]</th>                             <td> -187.3098</td> <td> 1113.577</td> <td>   -0.168</td> <td> 0.866</td> <td>-2370.164</td> <td> 1995.545</td>\n",
       "</tr>\n",
       "<tr>\n",
       "  <th>C(tipo_residencia, Treatment(1))[T.Aluguel]</th>       <td>  424.1785</td> <td>  380.177</td> <td>    1.116</td> <td> 0.265</td> <td> -321.051</td> <td> 1169.408</td>\n",
       "</tr>\n",
       "<tr>\n",
       "  <th>C(tipo_residencia, Treatment(1))[T.Com os pais]</th>   <td> -297.0706</td> <td>  209.045</td> <td>   -1.421</td> <td> 0.155</td> <td> -706.844</td> <td>  112.703</td>\n",
       "</tr>\n",
       "<tr>\n",
       "  <th>C(tipo_residencia, Treatment(1))[T.Comunitário]</th>   <td> -155.8199</td> <td>  579.507</td> <td>   -0.269</td> <td> 0.788</td> <td>-1291.780</td> <td>  980.140</td>\n",
       "</tr>\n",
       "<tr>\n",
       "  <th>C(tipo_residencia, Treatment(1))[T.Estúdio]</th>       <td> -235.0610</td> <td>  516.188</td> <td>   -0.455</td> <td> 0.649</td> <td>-1246.901</td> <td>  776.779</td>\n",
       "</tr>\n",
       "<tr>\n",
       "  <th>C(tipo_residencia, Treatment(1))[T.Governamental]</th> <td> -330.2434</td> <td>  263.332</td> <td>   -1.254</td> <td> 0.210</td> <td> -846.432</td> <td>  185.945</td>\n",
       "</tr>\n",
       "<tr>\n",
       "  <th>qtd_filhos</th>                                        <td> -136.6795</td> <td> 1077.896</td> <td>   -0.127</td> <td> 0.899</td> <td>-2249.591</td> <td> 1976.232</td>\n",
       "</tr>\n",
       "<tr>\n",
       "  <th>idade</th>                                             <td>   28.1490</td> <td>    5.543</td> <td>    5.079</td> <td> 0.000</td> <td>   17.284</td> <td>   39.014</td>\n",
       "</tr>\n",
       "<tr>\n",
       "  <th>tempo_emprego</th>                                     <td>  310.0598</td> <td>    7.099</td> <td>   43.678</td> <td> 0.000</td> <td>  296.145</td> <td>  323.975</td>\n",
       "</tr>\n",
       "<tr>\n",
       "  <th>qt_pessoas_residencia</th>                             <td>  174.9130</td> <td> 1076.842</td> <td>    0.162</td> <td> 0.871</td> <td>-1935.932</td> <td> 2285.758</td>\n",
       "</tr>\n",
       "</table>\n",
       "<table class=\"simpletable\">\n",
       "<tr>\n",
       "  <th>Omnibus:</th>       <td>7303.051</td> <th>  Durbin-Watson:     </th>  <td>   1.986</td> \n",
       "</tr>\n",
       "<tr>\n",
       "  <th>Prob(Omnibus):</th>  <td> 0.000</td>  <th>  Jarque-Bera (JB):  </th> <td>275747.466</td>\n",
       "</tr>\n",
       "<tr>\n",
       "  <th>Skew:</th>           <td> 3.431</td>  <th>  Prob(JB):          </th>  <td>    0.00</td> \n",
       "</tr>\n",
       "<tr>\n",
       "  <th>Kurtosis:</th>       <td>28.706</td>  <th>  Cond. No.          </th>  <td>3.09e+03</td> \n",
       "</tr>\n",
       "</table><br/><br/>Notes:<br/>[1] Standard Errors assume that the covariance matrix of the errors is correctly specified.<br/>[2] The condition number is large, 3.09e+03. This might indicate that there are<br/>strong multicollinearity or other numerical problems."
      ],
      "text/plain": [
       "<class 'statsmodels.iolib.summary.Summary'>\n",
       "\"\"\"\n",
       "                            OLS Regression Results                            \n",
       "==============================================================================\n",
       "Dep. Variable:                  renda   R-squared:                       0.230\n",
       "Model:                            OLS   Adj. R-squared:                  0.228\n",
       "Method:                 Least Squares   F-statistic:                     111.6\n",
       "Date:                Mon, 13 Mar 2023   Prob (F-statistic):               0.00\n",
       "Time:                        20:54:10   Log-Likelihood:                -91475.\n",
       "No. Observations:                9349   AIC:                         1.830e+05\n",
       "Df Residuals:                    9324   BIC:                         1.832e+05\n",
       "Df Model:                          25                                         \n",
       "Covariance Type:            nonrobust                                         \n",
       "=====================================================================================================================\n",
       "                                                        coef    std err          t      P>|t|      [0.025      0.975]\n",
       "---------------------------------------------------------------------------------------------------------------------\n",
       "Intercept                                          -280.2696   2167.813     -0.129      0.897   -4529.657    3969.118\n",
       "sexo[T.M]                                          2349.9054    101.370     23.182      0.000    2151.199    2548.612\n",
       "posse_de_veiculo[T.True]                            -49.0602     97.644     -0.502      0.615    -240.463     142.343\n",
       "C(posse_de_imovel, Treatment(1))[T.False]          -365.7728     96.703     -3.782      0.000    -555.332    -176.213\n",
       "C(tipo_renda, Treatment(0))[T.Bolsista]           -1704.0002   2486.773     -0.685      0.493   -6578.619    3170.619\n",
       "C(tipo_renda, Treatment(0))[T.Empresário]          1050.3412    104.138     10.086      0.000     846.207    1254.475\n",
       "C(tipo_renda, Treatment(0))[T.Pensionista]         1743.7147   1436.856      1.214      0.225   -1072.836    4560.265\n",
       "C(tipo_renda, Treatment(0))[T.Servidor público]     377.7280    150.227      2.514      0.012      83.250     672.206\n",
       "C(educacao, Treatment(2))[T.Primário]               200.8314    487.582      0.412      0.680    -754.936    1156.599\n",
       "C(educacao, Treatment(2))[T.Pós graduação]         2676.7032   1153.122      2.321      0.020     416.332    4937.074\n",
       "C(educacao, Treatment(2))[T.Superior completo]      621.4883     95.712      6.493      0.000     433.871     809.105\n",
       "C(educacao, Treatment(2))[T.Superior incompleto]    -57.6126    220.411     -0.261      0.794    -489.666     374.441\n",
       "estado_civil[T.Separado]                            152.1843   1094.291      0.139      0.889   -1992.866    2297.234\n",
       "estado_civil[T.Solteiro]                            155.1396   1081.249      0.143      0.886   -1964.344    2274.623\n",
       "estado_civil[T.União]                               -54.7173    165.480     -0.331      0.741    -379.094     269.659\n",
       "estado_civil[T.Viúvo]                              -187.3098   1113.577     -0.168      0.866   -2370.164    1995.545\n",
       "C(tipo_residencia, Treatment(1))[T.Aluguel]         424.1785    380.177      1.116      0.265    -321.051    1169.408\n",
       "C(tipo_residencia, Treatment(1))[T.Com os pais]    -297.0706    209.045     -1.421      0.155    -706.844     112.703\n",
       "C(tipo_residencia, Treatment(1))[T.Comunitário]    -155.8199    579.507     -0.269      0.788   -1291.780     980.140\n",
       "C(tipo_residencia, Treatment(1))[T.Estúdio]        -235.0610    516.188     -0.455      0.649   -1246.901     776.779\n",
       "C(tipo_residencia, Treatment(1))[T.Governamental]  -330.2434    263.332     -1.254      0.210    -846.432     185.945\n",
       "qtd_filhos                                         -136.6795   1077.896     -0.127      0.899   -2249.591    1976.232\n",
       "idade                                                28.1490      5.543      5.079      0.000      17.284      39.014\n",
       "tempo_emprego                                       310.0598      7.099     43.678      0.000     296.145     323.975\n",
       "qt_pessoas_residencia                               174.9130   1076.842      0.162      0.871   -1935.932    2285.758\n",
       "==============================================================================\n",
       "Omnibus:                     7303.051   Durbin-Watson:                   1.986\n",
       "Prob(Omnibus):                  0.000   Jarque-Bera (JB):           275747.466\n",
       "Skew:                           3.431   Prob(JB):                         0.00\n",
       "Kurtosis:                      28.706   Cond. No.                     3.09e+03\n",
       "==============================================================================\n",
       "\n",
       "Notes:\n",
       "[1] Standard Errors assume that the covariance matrix of the errors is correctly specified.\n",
       "[2] The condition number is large, 3.09e+03. This might indicate that there are\n",
       "strong multicollinearity or other numerical problems.\n",
       "\"\"\""
      ]
     },
     "execution_count": 16,
     "metadata": {},
     "output_type": "execute_result"
    }
   ],
   "source": [
    "# 2. Rode uma regularização ridge com alpha = [0, 0.001, 0.005, 0.01, 0.05, 0.1] e avalie o 𝑅2 na base de testes. \n",
    "#Qual o melhor modelo?\n",
    "\n",
    "modelo = patsy.dmatrices('''renda ~ sexo\n",
    "                                  + posse_de_veiculo\n",
    "                                  + C(posse_de_imovel, Treatment(1))\n",
    "                                  + qtd_filhos\n",
    "                                  + C(tipo_renda, Treatment(0))\n",
    "                                  + C(educacao, Treatment(2))\n",
    "                                  + estado_civil\n",
    "                                  + C(tipo_residencia, Treatment(1))\n",
    "                                  + idade\n",
    "                                  + tempo_emprego\n",
    "                                  + qt_pessoas_residencia\n",
    "                                  ''', X_train)\n",
    "md = smf.ols(modelo, data = df)\n",
    "reg = md.fit_regularized(method = 'elastic_net' \n",
    "                         , refit = True\n",
    "                         , L1_wt = 1\n",
    "                         , alpha = 0.01)\n",
    "\n",
    "reg.summary()"
   ]
  },
  {
   "cell_type": "code",
   "execution_count": 10,
   "metadata": {},
   "outputs": [
    {
     "name": "stdout",
     "output_type": "stream",
     "text": [
      "R² = 0.23034752240050793 Adj. R² = 0.2283664349420793 Alpha = 0 \n",
      "R² = 0.23034752240050793 Adj. R² = 0.2283664349420793 Alpha = 0.001 \n",
      "R² = 0.23034752240050793 Adj. R² = 0.2283664349420793 Alpha = 0.005 \n",
      "R² = 0.23034752240050793 Adj. R² = 0.2283664349420793 Alpha = 0.01 \n",
      "R² = 0.23034752240050793 Adj. R² = 0.2283664349420793 Alpha = 0.05 \n",
      "R² = 0.23034752240050793 Adj. R² = 0.2283664349420793 Alpha = 0.1 \n"
     ]
    }
   ],
   "source": [
    "\n",
    "\n",
    "alpha = [0, 0.001, 0.005, 0.01, 0.05, 0.1]\n",
    "\n",
    "for i in alpha:\n",
    "    md = smf.ols(modelo, data = X_train).fit_regularized(method = 'elastic_net' \n",
    "                         , refit = True\n",
    "                         , L1_wt = 0.00001\n",
    "                         , alpha = i)\n",
    "    print(f'R² = {md.rsquared} Adj. R² = {md.rsquared_adj} Alpha = {i} ')\n",
    "\n"
   ]
  },
  {
   "cell_type": "markdown",
   "metadata": {},
   "source": [
    "**Os valores de R² se mantiveram iguais em todos Alpha.**"
   ]
  },
  {
   "cell_type": "code",
   "execution_count": 11,
   "metadata": {},
   "outputs": [
    {
     "name": "stdout",
     "output_type": "stream",
     "text": [
      "R² = 0.23034752240050793 Adj. R² = 0.2283664349420793 Alpha = 0 \n",
      "R² = 0.23034752240050793 Adj. R² = 0.2283664349420793 Alpha = 0.001 \n",
      "R² = 0.23034752240050793 Adj. R² = 0.2283664349420793 Alpha = 0.005 \n",
      "R² = 0.23034752240050793 Adj. R² = 0.2283664349420793 Alpha = 0.01 \n",
      "R² = 0.2303335181338696 Adj. R² = 0.22843514504186735 Alpha = 0.05 \n",
      "R² = 0.2302310335316512 Adj. R² = 0.22841515134611579 Alpha = 0.1 \n"
     ]
    }
   ],
   "source": [
    "# 3. Faça o mesmo que no passo 2, com uma regressão LASSO. \n",
    "# Qual método chega a um melhor resultado?\n",
    "\n",
    "alpha = [0, 0.001, 0.005, 0.01, 0.05, 0.1]\n",
    "\n",
    "for i in alpha:\n",
    "    md = smf.ols(modelo, data = X_train).fit_regularized(method = 'elastic_net' \n",
    "                         , refit = True\n",
    "                         , L1_wt = 1\n",
    "                         , alpha = i)\n",
    "    print(f'R² = {md.rsquared} Adj. R² = {md.rsquared_adj} Alpha = {i} ')"
   ]
  },
  {
   "cell_type": "markdown",
   "metadata": {},
   "source": [
    "\n",
    "**Os valores de Aplha [0, 0.001, 0.005, 0.01] mostraram valores mais elevados de R²**"
   ]
  },
  {
   "cell_type": "code",
   "execution_count": 18,
   "metadata": {},
   "outputs": [],
   "source": [
    "#4 Rode um modelo stepwise. Avalie o 𝑅2 na vase de testes. Qual o melhor resultado?\n",
    "\n",
    "def stepwise_selection(X, y, \n",
    "                       initial_list=[], \n",
    "                       threshold_in=0.05, \n",
    "                       threshold_out = 0.05, \n",
    "                       verbose=True):\n",
    "    \"\"\" Perform a forward-backward feature selection \n",
    "    based on p-value from statsmodels.api.OLS\n",
    "    Arguments:\n",
    "        X - pandas.DataFrame with candidate features\n",
    "        y - list-like with the target\n",
    "        initial_list - list of features to start with (column names of X)\n",
    "        threshold_in - include a feature if its p-value < threshold_in\n",
    "        threshold_out - exclude a feature if its p-value > threshold_out\n",
    "        verbose - whether to print the sequence of inclusions and exclusions\n",
    "    Returns: list of selected features \n",
    "    Always set threshold_in < threshold_out to avoid infinite looping.\n",
    "    See https://en.wikipedia.org/wiki/Stepwise_regression for the details\n",
    "    \"\"\"\n",
    "    included = list(initial_list)\n",
    "    while True:\n",
    "        changed=False\n",
    "        # forward step\n",
    "        excluded = list(set(X.columns)-set(included))\n",
    "        new_pval = pd.Series(index=excluded, dtype=np.dtype('float64'))\n",
    "        for new_column in excluded:\n",
    "            model = sm.OLS(y, sm.add_constant(pd.DataFrame(X[included+[new_column]]))).fit()\n",
    "            new_pval[new_column] = model.pvalues[new_column]\n",
    "        best_pval = new_pval.min()\n",
    "        if best_pval < threshold_in:\n",
    "            best_feature = new_pval.index[new_pval.argmin()]\n",
    "            included.append(best_feature)\n",
    "            changed=True\n",
    "            if verbose:\n",
    "                 print('Add  {:30} with p-value {:.6}'.format(best_feature, best_pval))\n",
    "\n",
    "        # backward step\n",
    "        print(\"-----------------\")\n",
    "        print(included)\n",
    "        model = sm.OLS(y, sm.add_constant(pd.DataFrame(X[included]))).fit()\n",
    "        # use all coefs except intercept\n",
    "        pvalues = model.pvalues.iloc[1:]\n",
    "        worst_pval = pvalues.max() # null if pvalues is empty\n",
    "        if worst_pval > threshold_out:\n",
    "            changed=True\n",
    "            worst_feature = pvalues.argmax()\n",
    "            included.remove(worst_feature)\n",
    "            if verbose:\n",
    "                print('Drop {:30} with p-value {:.6}'.format(worst_feature, worst_pval))\n",
    "        if not changed:\n",
    "            break\n",
    "    return included"
   ]
  },
  {
   "cell_type": "code",
   "execution_count": 19,
   "metadata": {},
   "outputs": [],
   "source": [
    "X_step = X_train.drop('renda', axis = 1)\n",
    "X_step = pd.get_dummies(X_step, columns = ['sexo', 'posse_de_veiculo', 'posse_de_imovel', 'tipo_renda', 'educacao', 'estado_civil', 'tipo_residencia'], drop_first=True)\n",
    "\n",
    "y_step = np.array(X_train[['renda']])"
   ]
  },
  {
   "cell_type": "code",
   "execution_count": 20,
   "metadata": {},
   "outputs": [
    {
     "name": "stdout",
     "output_type": "stream",
     "text": [
      "Add  tempo_emprego                  with p-value 0.0\n",
      "-----------------\n",
      "['tempo_emprego']\n",
      "Add  sexo_M                         with p-value 1.8412e-121\n",
      "-----------------\n",
      "['tempo_emprego', 'sexo_M']\n",
      "Add  tipo_renda_Empresário          with p-value 2.08796e-24\n",
      "-----------------\n",
      "['tempo_emprego', 'sexo_M', 'tipo_renda_Empresário']\n",
      "Add  educacao_Superior completo     with p-value 5.68231e-11\n",
      "-----------------\n",
      "['tempo_emprego', 'sexo_M', 'tipo_renda_Empresário', 'educacao_Superior completo']\n",
      "Add  idade                          with p-value 1.09787e-08\n",
      "-----------------\n",
      "['tempo_emprego', 'sexo_M', 'tipo_renda_Empresário', 'educacao_Superior completo', 'idade']\n",
      "Add  posse_de_imovel_True           with p-value 1.39859e-05\n",
      "-----------------\n",
      "['tempo_emprego', 'sexo_M', 'tipo_renda_Empresário', 'educacao_Superior completo', 'idade', 'posse_de_imovel_True']\n",
      "Add  tipo_renda_Servidor público    with p-value 0.0138807\n",
      "-----------------\n",
      "['tempo_emprego', 'sexo_M', 'tipo_renda_Empresário', 'educacao_Superior completo', 'idade', 'posse_de_imovel_True', 'tipo_renda_Servidor público']\n",
      "Add  educacao_Pós graduação         with p-value 0.0193064\n",
      "-----------------\n",
      "['tempo_emprego', 'sexo_M', 'tipo_renda_Empresário', 'educacao_Superior completo', 'idade', 'posse_de_imovel_True', 'tipo_renda_Servidor público', 'educacao_Pós graduação']\n",
      "-----------------\n",
      "['tempo_emprego', 'sexo_M', 'tipo_renda_Empresário', 'educacao_Superior completo', 'idade', 'posse_de_imovel_True', 'tipo_renda_Servidor público', 'educacao_Pós graduação']\n",
      "resulting features:\n",
      "['tempo_emprego', 'sexo_M', 'tipo_renda_Empresário', 'educacao_Superior completo', 'idade', 'posse_de_imovel_True', 'tipo_renda_Servidor público', 'educacao_Pós graduação']\n"
     ]
    }
   ],
   "source": [
    "result = stepwise_selection(X_step, y_step)\n",
    "\n",
    "print('resulting features:')\n",
    "print(result)"
   ]
  },
  {
   "cell_type": "code",
   "execution_count": 22,
   "metadata": {},
   "outputs": [
    {
     "data": {
      "text/html": [
       "<table class=\"simpletable\">\n",
       "<caption>OLS Regression Results</caption>\n",
       "<tr>\n",
       "  <th>Dep. Variable:</th>            <td>y</td>        <th>  R-squared:         </th> <td>   0.230</td> \n",
       "</tr>\n",
       "<tr>\n",
       "  <th>Model:</th>                   <td>OLS</td>       <th>  Adj. R-squared:    </th> <td>   0.229</td> \n",
       "</tr>\n",
       "<tr>\n",
       "  <th>Method:</th>             <td>Least Squares</td>  <th>  F-statistic:       </th> <td>   347.9</td> \n",
       "</tr>\n",
       "<tr>\n",
       "  <th>Date:</th>             <td>Mon, 13 Mar 2023</td> <th>  Prob (F-statistic):</th>  <td>  0.00</td>  \n",
       "</tr>\n",
       "<tr>\n",
       "  <th>Time:</th>                 <td>21:01:23</td>     <th>  Log-Likelihood:    </th> <td> -91480.</td> \n",
       "</tr>\n",
       "<tr>\n",
       "  <th>No. Observations:</th>      <td>  9349</td>      <th>  AIC:               </th> <td>1.830e+05</td>\n",
       "</tr>\n",
       "<tr>\n",
       "  <th>Df Residuals:</th>          <td>  9340</td>      <th>  BIC:               </th> <td>1.830e+05</td>\n",
       "</tr>\n",
       "<tr>\n",
       "  <th>Df Model:</th>              <td>     8</td>      <th>                     </th>     <td> </td>    \n",
       "</tr>\n",
       "<tr>\n",
       "  <th>Covariance Type:</th>      <td>nonrobust</td>    <th>                     </th>     <td> </td>    \n",
       "</tr>\n",
       "</table>\n",
       "<table class=\"simpletable\">\n",
       "<tr>\n",
       "               <td></td>                  <th>coef</th>     <th>std err</th>      <th>t</th>      <th>P>|t|</th>  <th>[0.025</th>    <th>0.975]</th>  \n",
       "</tr>\n",
       "<tr>\n",
       "  <th>const</th>                       <td> -337.4576</td> <td>  221.201</td> <td>   -1.526</td> <td> 0.127</td> <td> -771.060</td> <td>   96.145</td>\n",
       "</tr>\n",
       "<tr>\n",
       "  <th>tempo_emprego</th>               <td>  310.5677</td> <td>    7.066</td> <td>   43.952</td> <td> 0.000</td> <td>  296.717</td> <td>  324.419</td>\n",
       "</tr>\n",
       "<tr>\n",
       "  <th>sexo_M</th>                      <td> 2355.8406</td> <td>   94.116</td> <td>   25.031</td> <td> 0.000</td> <td> 2171.353</td> <td> 2540.328</td>\n",
       "</tr>\n",
       "<tr>\n",
       "  <th>tipo_renda_Empresário</th>       <td> 1052.2336</td> <td>  103.736</td> <td>   10.143</td> <td> 0.000</td> <td>  848.888</td> <td> 1255.579</td>\n",
       "</tr>\n",
       "<tr>\n",
       "  <th>educacao_Superior completo</th>  <td>  619.1884</td> <td>   93.063</td> <td>    6.653</td> <td> 0.000</td> <td>  436.764</td> <td>  801.613</td>\n",
       "</tr>\n",
       "<tr>\n",
       "  <th>idade</th>                       <td>   27.3622</td> <td>    5.081</td> <td>    5.385</td> <td> 0.000</td> <td>   17.403</td> <td>   37.322</td>\n",
       "</tr>\n",
       "<tr>\n",
       "  <th>posse_de_imovel_True</th>        <td>  407.1649</td> <td>   94.162</td> <td>    4.324</td> <td> 0.000</td> <td>  222.588</td> <td>  591.742</td>\n",
       "</tr>\n",
       "<tr>\n",
       "  <th>tipo_renda_Servidor público</th> <td>  370.8081</td> <td>  149.587</td> <td>    2.479</td> <td> 0.013</td> <td>   77.585</td> <td>  664.031</td>\n",
       "</tr>\n",
       "<tr>\n",
       "  <th>educacao_Pós graduação</th>      <td> 2694.7181</td> <td> 1151.605</td> <td>    2.340</td> <td> 0.019</td> <td>  437.321</td> <td> 4952.116</td>\n",
       "</tr>\n",
       "</table>\n",
       "<table class=\"simpletable\">\n",
       "<tr>\n",
       "  <th>Omnibus:</th>       <td>7303.880</td> <th>  Durbin-Watson:     </th>  <td>   1.986</td> \n",
       "</tr>\n",
       "<tr>\n",
       "  <th>Prob(Omnibus):</th>  <td> 0.000</td>  <th>  Jarque-Bera (JB):  </th> <td>275651.133</td>\n",
       "</tr>\n",
       "<tr>\n",
       "  <th>Skew:</th>           <td> 3.432</td>  <th>  Prob(JB):          </th>  <td>    0.00</td> \n",
       "</tr>\n",
       "<tr>\n",
       "  <th>Kurtosis:</th>       <td>28.700</td>  <th>  Cond. No.          </th>  <td>1.10e+03</td> \n",
       "</tr>\n",
       "</table><br/><br/>Notes:<br/>[1] Standard Errors assume that the covariance matrix of the errors is correctly specified.<br/>[2] The condition number is large, 1.1e+03. This might indicate that there are<br/>strong multicollinearity or other numerical problems."
      ],
      "text/plain": [
       "<class 'statsmodels.iolib.summary.Summary'>\n",
       "\"\"\"\n",
       "                            OLS Regression Results                            \n",
       "==============================================================================\n",
       "Dep. Variable:                      y   R-squared:                       0.230\n",
       "Model:                            OLS   Adj. R-squared:                  0.229\n",
       "Method:                 Least Squares   F-statistic:                     347.9\n",
       "Date:                Mon, 13 Mar 2023   Prob (F-statistic):               0.00\n",
       "Time:                        21:01:23   Log-Likelihood:                -91480.\n",
       "No. Observations:                9349   AIC:                         1.830e+05\n",
       "Df Residuals:                    9340   BIC:                         1.830e+05\n",
       "Df Model:                           8                                         \n",
       "Covariance Type:            nonrobust                                         \n",
       "===============================================================================================\n",
       "                                  coef    std err          t      P>|t|      [0.025      0.975]\n",
       "-----------------------------------------------------------------------------------------------\n",
       "const                        -337.4576    221.201     -1.526      0.127    -771.060      96.145\n",
       "tempo_emprego                 310.5677      7.066     43.952      0.000     296.717     324.419\n",
       "sexo_M                       2355.8406     94.116     25.031      0.000    2171.353    2540.328\n",
       "tipo_renda_Empresário        1052.2336    103.736     10.143      0.000     848.888    1255.579\n",
       "educacao_Superior completo    619.1884     93.063      6.653      0.000     436.764     801.613\n",
       "idade                          27.3622      5.081      5.385      0.000      17.403      37.322\n",
       "posse_de_imovel_True          407.1649     94.162      4.324      0.000     222.588     591.742\n",
       "tipo_renda_Servidor público   370.8081    149.587      2.479      0.013      77.585     664.031\n",
       "educacao_Pós graduação       2694.7181   1151.605      2.340      0.019     437.321    4952.116\n",
       "==============================================================================\n",
       "Omnibus:                     7303.880   Durbin-Watson:                   1.986\n",
       "Prob(Omnibus):                  0.000   Jarque-Bera (JB):           275651.133\n",
       "Skew:                           3.432   Prob(JB):                         0.00\n",
       "Kurtosis:                      28.700   Cond. No.                     1.10e+03\n",
       "==============================================================================\n",
       "\n",
       "Notes:\n",
       "[1] Standard Errors assume that the covariance matrix of the errors is correctly specified.\n",
       "[2] The condition number is large, 1.1e+03. This might indicate that there are\n",
       "strong multicollinearity or other numerical problems.\n",
       "\"\"\""
      ]
     },
     "execution_count": 22,
     "metadata": {},
     "output_type": "execute_result"
    }
   ],
   "source": [
    "\n",
    "# Regressão do stepwise\n",
    "reg_stepwise = sm.OLS(y_step, sm.add_constant(pd.DataFrame(X_step[result]))).fit()\n",
    "reg_stepwise.summary()\n",
    "\n"
   ]
  },
  {
   "cell_type": "code",
   "execution_count": 24,
   "metadata": {},
   "outputs": [
    {
     "data": {
      "text/plain": [
       "0.2295515245411368"
      ]
     },
     "execution_count": 24,
     "metadata": {},
     "output_type": "execute_result"
    }
   ],
   "source": [
    "#Avaliando o  R²  da base:\n",
    "\n",
    "reg_stepwise.rsquared\n",
    "\n"
   ]
  },
  {
   "cell_type": "markdown",
   "metadata": {},
   "source": [
    "**Usando o stepwise, o R² mostrou diferenças quando ajustados, mesmo que muito pequenas. O ponto positivo é reduzir o número de variáveis e dados para analisar, para ter atenção somente naquelas relevantes.**"
   ]
  },
  {
   "cell_type": "markdown",
   "metadata": {},
   "source": [
    "**#5 Compare os parâmetros e avalie eventuais diferenças. Qual modelo você acha o melhor de todos?**\n",
    "\n",
    "O stepwise mostrou que é útil para separar as variáveis mais relevantes. \n",
    "\n",
    "Apesar dos modelos Rigde e LASSO mostrarem o R² diretamente, o stepwise parece mostrar mais detalhes."
   ]
  },
  {
   "cell_type": "code",
   "execution_count": 25,
   "metadata": {},
   "outputs": [
    {
     "name": "stdout",
     "output_type": "stream",
     "text": [
      "ridge\n",
      "R² = 0.24872006799153845 Adj. R² = 0.2476738292003109 Alpha = 0 \n",
      "R² = 0.24872006799153845 Adj. R² = 0.2476738292003109 Alpha = 0.001 \n",
      "R² = 0.24872006799153845 Adj. R² = 0.2476738292003109 Alpha = 0.005 \n",
      "R² = 0.24872006799153845 Adj. R² = 0.2476738292003109 Alpha = 0.01 \n",
      "R² = 0.24872006799153845 Adj. R² = 0.2476738292003109 Alpha = 0.05 \n",
      "R² = 0.24872006799153845 Adj. R² = 0.2476738292003109 Alpha = 0.1 \n",
      "\n",
      "LASSO\n",
      "R² = 0.24872006799153845 Adj. R² = 0.2476738292003109 Alpha = 0 \n",
      "R² = 0.24772083148779178 Adj. R² = 0.24699585959394765 Alpha = 0.001 \n",
      "R² = 0.24579001145034063 Adj. R² = 0.24522481822479214 Alpha = 0.005 \n",
      "R² = 0.24223177295032516 Adj. R² = 0.2417450881545321 Alpha = 0.01 \n",
      "R² = 0.22942504880734782 Adj. R² = 0.22909517939330992 Alpha = 0.05 \n",
      "R² = 0.22942504880734782 Adj. R² = 0.22909517939330992 Alpha = 0.1 \n"
     ]
    }
   ],
   "source": [
    "# 6. Partindo dos modelos que você ajustou, tente melhorar o 𝑅2 na base de testes. \n",
    "#Use a criatividade, veja se consegue inserir alguma transformação ou combinação de variáveis.\n",
    "\n",
    "modelo = patsy.dmatrices('''np.log(renda) ~ sexo\n",
    "                                  + posse_de_imovel\n",
    "                                  + tipo_renda\n",
    "                                  + educacao\n",
    "                                  + idade\n",
    "                                  + tempo_emprego\n",
    "                                  + np.power(tempo_emprego,2)\n",
    "                                  ''', X_train)\n",
    "\n",
    "\n",
    "alpha = [0, 0.001, 0.005, 0.01, 0.05, 0.1]\n",
    "\n",
    "print('ridge')\n",
    "for i in alpha:\n",
    "    md = smf.ols(modelo, data = X_train).fit_regularized(method = 'elastic_net' \n",
    "                         , refit = True\n",
    "                         , L1_wt = 0.00001\n",
    "                         , alpha = i)\n",
    "    print(f'R² = {md.rsquared} Adj. R² = {md.rsquared_adj} Alpha = {i} ')\n",
    "    \n",
    "print('')\n",
    "\n",
    "\n",
    "print('LASSO')\n",
    "for i in alpha:\n",
    "    md = smf.ols(modelo, data = X_train).fit_regularized(method = 'elastic_net' \n",
    "                         , refit = True\n",
    "                         , L1_wt = 1\n",
    "                         , alpha = i)\n",
    "    print(f'R² = {md.rsquared} Adj. R² = {md.rsquared_adj} Alpha = {i} ')"
   ]
  },
  {
   "cell_type": "code",
   "execution_count": 30,
   "metadata": {},
   "outputs": [
    {
     "data": {
      "text/plain": [
       "<seaborn.matrix.ClusterGrid at 0x1df696f68b0>"
      ]
     },
     "execution_count": 30,
     "metadata": {},
     "output_type": "execute_result"
    },
    {
     "data": {
      "image/png": "[encoded data removed]",
      "text/plain": [
       "<Figure size 720x720 with 4 Axes>"
      ]
     },
     "metadata": {
      "needs_background": "light"
     },
     "output_type": "display_data"
    }
   ],
   "source": [
    "\n",
    "\n",
    "# 7. Ajuste uma árvore de regressão e veja se consegue um 𝑅2 melhor com ela.\n",
    "\n",
    "sns.clustermap(X_train.corr(), figsize = (10, 10), annot = True, center = 0, cmap = 'Blues')\n",
    "\n"
   ]
  },
  {
   "cell_type": "code",
   "execution_count": 31,
   "metadata": {},
   "outputs": [
    {
     "data": {
      "text/plain": [
       "DecisionTreeRegressor(max_depth=4)"
      ]
     },
     "execution_count": 31,
     "metadata": {},
     "output_type": "execute_result"
    }
   ],
   "source": [
    "regtree = DecisionTreeRegressor(max_depth=4)\n",
    "\n",
    "regtree.fit(X_step, y_step)"
   ]
  },
  {
   "cell_type": "code",
   "execution_count": 32,
   "metadata": {},
   "outputs": [
    {
     "data": {
      "image/png": "[encoded data removed]",
      "text/plain": [
       "<Figure size 720x720 with 1 Axes>"
      ]
     },
     "metadata": {
      "needs_background": "light"
     },
     "output_type": "display_data"
    }
   ],
   "source": [
    "\n",
    "\n",
    "plt.rc('figure', figsize=(10, 10))\n",
    "\n",
    "tp = tree.plot_tree(regtree, \n",
    "                    feature_names=X_step.columns,  \n",
    "                    filled=True) \n",
    "\n"
   ]
  },
  {
   "cell_type": "code",
   "execution_count": 36,
   "metadata": {},
   "outputs": [
    {
     "name": "stdout",
     "output_type": "stream",
     "text": [
      "O R² da árvore de treino com profundidade = 4 é: 0,26\n"
     ]
    }
   ],
   "source": [
    "rsquared = regtree.score(X_step, y_step)\n",
    "\n",
    "template = 'O R² da árvore de treino com profundidade = {0} é: {1:.2f}'\n",
    "print(template.format(regtree.get_depth(),rsquared).replace(\".\",\",\"))"
   ]
  },
  {
   "cell_type": "markdown",
   "metadata": {},
   "source": [
    "**O resultado obtido com a arvore de regressão mostrou um resultado maelhor para o R², afinal aumentou de 0.23 para 0.26**"
   ]
  },
  {
   "cell_type": "code",
   "execution_count": null,
   "metadata": {},
   "outputs": [],
   "source": []
  }
 ],
 "metadata": {
  "kernelspec": {
   "display_name": "Python 3 (ipykernel)",
   "language": "python",
   "name": "python3"
  },
  "language_info": {
   "codemirror_mode": {
    "name": "ipython",
    "version": 3
   },
   "file_extension": ".py",
   "mimetype": "text/x-python",
   "name": "python",
   "nbconvert_exporter": "python",
   "pygments_lexer": "ipython3",
   "version": "3.9.12"
  }
 },
 "nbformat": 4,
 "nbformat_minor": 4
}
